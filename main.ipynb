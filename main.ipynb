{
 "cells": [
  {
   "cell_type": "code",
   "execution_count": 1,
   "id": "976ca10a",
   "metadata": {
    "execution": {
     "iopub.execute_input": "2024-05-14T13:21:12.371915Z",
     "iopub.status.busy": "2024-05-14T13:21:12.371437Z",
     "iopub.status.idle": "2024-05-14T13:21:17.638862Z",
     "shell.execute_reply": "2024-05-14T13:21:17.637060Z"
    },
    "papermill": {
     "duration": 5.279423,
     "end_time": "2024-05-14T13:21:17.643179",
     "exception": false,
     "start_time": "2024-05-14T13:21:12.363756",
     "status": "completed"
    },
    "tags": []
   },
   "outputs": [],
   "source": [
    "import pandas as pd\n",
    "import torch\n",
    "import torch.nn as nn\n",
    "from torch.nn import functional as F\n",
    "\n",
    "import sentencepiece as spm"
   ]
  },
  {
   "cell_type": "code",
   "execution_count": 2,
   "id": "4ebe9440",
   "metadata": {
    "execution": {
     "iopub.execute_input": "2024-05-14T13:21:17.660480Z",
     "iopub.status.busy": "2024-05-14T13:21:17.659819Z",
     "iopub.status.idle": "2024-05-14T13:21:17.666465Z",
     "shell.execute_reply": "2024-05-14T13:21:17.664855Z"
    },
    "papermill": {
     "duration": 0.019081,
     "end_time": "2024-05-14T13:21:17.670665",
     "exception": false,
     "start_time": "2024-05-14T13:21:17.651584",
     "status": "completed"
    },
    "tags": []
   },
   "outputs": [],
   "source": [
    "EMBEDDING_SIZE = 128\n",
    "CONTEXT_SIZE = 256\n",
    "ENCODER_TRANSFORMER_COUNT = 6\n",
    "DECODER_TRANSFORMER_COUNT = 6\n",
    "NUM_HEADS = 8"
   ]
  },
  {
   "cell_type": "code",
   "execution_count": 3,
   "id": "bb9aa7cb",
   "metadata": {
    "execution": {
     "iopub.execute_input": "2024-05-14T13:21:17.685597Z",
     "iopub.status.busy": "2024-05-14T13:21:17.685143Z",
     "iopub.status.idle": "2024-05-14T13:21:18.362476Z",
     "shell.execute_reply": "2024-05-14T13:21:18.361495Z"
    },
    "papermill": {
     "duration": 0.687708,
     "end_time": "2024-05-14T13:21:18.365885",
     "exception": false,
     "start_time": "2024-05-14T13:21:17.678177",
     "status": "completed"
    },
    "tags": []
   },
   "outputs": [
    {
     "data": {
      "text/html": [
       "<div>\n",
       "<style scoped>\n",
       "    .dataframe tbody tr th:only-of-type {\n",
       "        vertical-align: middle;\n",
       "    }\n",
       "\n",
       "    .dataframe tbody tr th {\n",
       "        vertical-align: top;\n",
       "    }\n",
       "\n",
       "    .dataframe thead th {\n",
       "        text-align: right;\n",
       "    }\n",
       "</style>\n",
       "<table border=\"1\" class=\"dataframe\">\n",
       "  <thead>\n",
       "    <tr style=\"text-align: right;\">\n",
       "      <th></th>\n",
       "      <th>English words/sentences</th>\n",
       "      <th>French words/sentences</th>\n",
       "    </tr>\n",
       "  </thead>\n",
       "  <tbody>\n",
       "    <tr>\n",
       "      <th>0</th>\n",
       "      <td>Hi.</td>\n",
       "      <td>Salut!</td>\n",
       "    </tr>\n",
       "    <tr>\n",
       "      <th>1</th>\n",
       "      <td>Run!</td>\n",
       "      <td>Cours !</td>\n",
       "    </tr>\n",
       "    <tr>\n",
       "      <th>2</th>\n",
       "      <td>Run!</td>\n",
       "      <td>Courez !</td>\n",
       "    </tr>\n",
       "    <tr>\n",
       "      <th>3</th>\n",
       "      <td>Who?</td>\n",
       "      <td>Qui ?</td>\n",
       "    </tr>\n",
       "    <tr>\n",
       "      <th>4</th>\n",
       "      <td>Wow!</td>\n",
       "      <td>Ça alors !</td>\n",
       "    </tr>\n",
       "  </tbody>\n",
       "</table>\n",
       "</div>"
      ],
      "text/plain": [
       "  English words/sentences French words/sentences\n",
       "0                     Hi.                 Salut!\n",
       "1                    Run!                Cours !\n",
       "2                    Run!               Courez !\n",
       "3                    Who?                  Qui ?\n",
       "4                    Wow!             Ça alors !"
      ]
     },
     "execution_count": 3,
     "metadata": {},
     "output_type": "execute_result"
    }
   ],
   "source": [
    "df = pd.read_csv(\"/kaggle/input/language-translation-englishfrench/eng_-french.csv\")\n",
    "\n",
    "df.head()"
   ]
  },
  {
   "cell_type": "code",
   "execution_count": 4,
   "id": "f09e2cfc",
   "metadata": {
    "execution": {
     "iopub.execute_input": "2024-05-14T13:21:18.378981Z",
     "iopub.status.busy": "2024-05-14T13:21:18.378598Z",
     "iopub.status.idle": "2024-05-14T13:21:19.535173Z",
     "shell.execute_reply": "2024-05-14T13:21:19.533707Z"
    },
    "papermill": {
     "duration": 1.166547,
     "end_time": "2024-05-14T13:21:19.538476",
     "exception": false,
     "start_time": "2024-05-14T13:21:18.371929",
     "status": "completed"
    },
    "tags": []
   },
   "outputs": [
    {
     "name": "stdout",
     "output_type": "stream",
     "text": [
      "['hi.', 'run!', 'run!', 'who?', 'wow!']\n",
      "['salut!', 'cours!', 'courez!', 'qui ?', 'ça alors!']\n"
     ]
    }
   ],
   "source": [
    "english_all = df[\"English words/sentences\"].values.astype(str)\n",
    "french_all = df[\"French words/sentences\"].values.astype(str)\n",
    "\n",
    "english_all = [seq.replace(\"\\u202f\", \"\") for seq in english_all]\n",
    "french_all = [seq.replace(\"\\u202f\", \"\") for seq in french_all]\n",
    "\n",
    "english_all = [seq.lower() for seq in english_all]\n",
    "french_all = [seq.lower() for seq in french_all]\n",
    "\n",
    "print(english_all[0:5])\n",
    "print(french_all[0:5])"
   ]
  },
  {
   "cell_type": "code",
   "execution_count": 5,
   "id": "15115a79",
   "metadata": {
    "execution": {
     "iopub.execute_input": "2024-05-14T13:21:19.552059Z",
     "iopub.status.busy": "2024-05-14T13:21:19.551640Z",
     "iopub.status.idle": "2024-05-14T13:21:19.609766Z",
     "shell.execute_reply": "2024-05-14T13:21:19.608332Z"
    },
    "papermill": {
     "duration": 0.068374,
     "end_time": "2024-05-14T13:21:19.612549",
     "exception": false,
     "start_time": "2024-05-14T13:21:19.544175",
     "status": "completed"
    },
    "tags": []
   },
   "outputs": [
    {
     "name": "stdout",
     "output_type": "stream",
     "text": [
      "Padding token ID for english: -1\n",
      "Padding token ID for frencb: -1\n",
      "EN Vocab Size:  10000\n",
      "FR Vocab Size:  10000\n"
     ]
    }
   ],
   "source": [
    "sp_en = spm.SentencePieceProcessor()\n",
    "sp_en.load(\"/kaggle/input/french-english-tokenization/other/100embed/1/en.wiki.bpe.vs10000.model\")\n",
    "\n",
    "sp_fr = spm.SentencePieceProcessor()\n",
    "sp_fr.load(\"/kaggle/input/french-english-tokenization/other/100embed/1/fr.wiki.bpe.vs10000.model\")\n",
    "\n",
    "en_vocab = sp_en.get_piece_size()\n",
    "fr_vocab = sp_fr.get_piece_size()\n",
    "\n",
    "padding_token_id_en = sp_en.pad_id()\n",
    "print(\"Padding token ID for english:\", padding_token_id_en)\n",
    "\n",
    "padding_token_id_fr = sp_fr.pad_id()\n",
    "print(\"Padding token ID for frencb:\", padding_token_id_fr)\n",
    "\n",
    "\n",
    "print(\"EN Vocab Size: \", en_vocab)\n",
    "print(\"FR Vocab Size: \", fr_vocab)"
   ]
  },
  {
   "cell_type": "code",
   "execution_count": 6,
   "id": "afc639fb",
   "metadata": {
    "execution": {
     "iopub.execute_input": "2024-05-14T13:21:19.625784Z",
     "iopub.status.busy": "2024-05-14T13:21:19.625381Z",
     "iopub.status.idle": "2024-05-14T13:21:19.708198Z",
     "shell.execute_reply": "2024-05-14T13:21:19.706468Z"
    },
    "papermill": {
     "duration": 0.093742,
     "end_time": "2024-05-14T13:21:19.712074",
     "exception": false,
     "start_time": "2024-05-14T13:21:19.618332",
     "status": "completed"
    },
    "tags": []
   },
   "outputs": [],
   "source": [
    "with open(\"/kaggle/working/en_vocab.text\", \"w\", encoding=\"utf-8\") as f:\n",
    "    # Iterate over all token IDs\n",
    "    for i in range(en_vocab):\n",
    "        # Convert token ID to token\n",
    "        token = sp_en.id_to_piece(i)\n",
    "        # Write token to file\n",
    "        f.write(str(i) + \" : \" + token + \"\\n\")\n",
    "\n",
    "with open(\"/kaggle/working/fr_vocab.text\", \"w\", encoding=\"utf-8\") as f:\n",
    "    # Iterate over all token IDs\n",
    "    for i in range(fr_vocab):\n",
    "        # Convert token ID to token\n",
    "        token = sp_fr.id_to_piece(i)\n",
    "        # Write token to file\n",
    "        f.write(str(i) + \" : \" + token + \"\\n\")"
   ]
  },
  {
   "cell_type": "code",
   "execution_count": 7,
   "id": "2cd5dc97",
   "metadata": {
    "execution": {
     "iopub.execute_input": "2024-05-14T13:21:19.733703Z",
     "iopub.status.busy": "2024-05-14T13:21:19.733035Z",
     "iopub.status.idle": "2024-05-14T13:21:28.529780Z",
     "shell.execute_reply": "2024-05-14T13:21:28.528858Z"
    },
    "papermill": {
     "duration": 8.812395,
     "end_time": "2024-05-14T13:21:28.532274",
     "exception": false,
     "start_time": "2024-05-14T13:21:19.719879",
     "status": "completed"
    },
    "tags": []
   },
   "outputs": [
    {
     "name": "stdout",
     "output_type": "stream",
     "text": [
      "[[40, 9916, 9935], [888, 9960], [888, 9960], [305, 9967], [15, 90, 9960]]\n",
      "[[1021, 138, 9977], [926, 9977], [844, 6607, 9977], [135, 2340], [9558, 494, 9977]]\n"
     ]
    }
   ],
   "source": [
    "english_data = [sp_en.encode_as_ids(seq) for seq in english_all]\n",
    "french_data = [sp_fr.encode_as_ids(seq) for seq in french_all]\n",
    "\n",
    "print(english_data[0:5])\n",
    "print(french_data[0:5])"
   ]
  },
  {
   "cell_type": "code",
   "execution_count": 8,
   "id": "e28d847c",
   "metadata": {
    "execution": {
     "iopub.execute_input": "2024-05-14T13:21:28.545933Z",
     "iopub.status.busy": "2024-05-14T13:21:28.545261Z",
     "iopub.status.idle": "2024-05-14T13:21:28.556631Z",
     "shell.execute_reply": "2024-05-14T13:21:28.555276Z"
    },
    "papermill": {
     "duration": 0.021833,
     "end_time": "2024-05-14T13:21:28.559812",
     "exception": false,
     "start_time": "2024-05-14T13:21:28.537979",
     "status": "completed"
    },
    "tags": []
   },
   "outputs": [],
   "source": [
    "# Single Attention Head\n",
    "class SingleHeadedAttention(nn.Module):\n",
    "    \n",
    "    def __init__(self, emb_size, head_size, context_size:int, dropout=0.2):\n",
    "        super().__init__()\n",
    "        self.key = nn.Linear(emb_size, head_size, bias=False)\n",
    "        self.query = nn.Linear(emb_size, head_size, bias=False)\n",
    "        self.value = nn.Linear(emb_size, head_size, bias=False)\n",
    "        self.register_buffer('tril', torch.tril(torch.ones(context_size, context_size)))\n",
    "        \n",
    "        self.dropout = nn.Dropout(dropout)\n",
    "        \n",
    "    def forward(self, x, masked=True):\n",
    "        B,T, C = x.shape\n",
    "        \n",
    "        k = self.key(x)   # Size (B, T, head_size)\n",
    "        q = self.query(x) # same thing..\n",
    "        v = self.value(x) # same thing..\n",
    "        \n",
    "        weight = q @ k.transpose(-2, -1) * (k.shape[-1]**-0.5) # this equation is defined in the original paper and the multiplication part is normalization over each Time Serie in the batch.\n",
    "        if(masked): weight = weight.masked_fill(self.tril[:T, :T] == 0, float('-inf')) # (B, T, T) # This will mask the upper triangle of zeros and turn it into -inf for the softmax func\n",
    "        weight = F.softmax(weight, dim=-1)\n",
    "        weight = self.dropout(weight)\n",
    "\n",
    "        v = self.value(x)\n",
    "        \n",
    "        out = weight @ v\n",
    "        \n",
    "        return out"
   ]
  },
  {
   "cell_type": "code",
   "execution_count": 9,
   "id": "a058e553",
   "metadata": {
    "execution": {
     "iopub.execute_input": "2024-05-14T13:21:28.574678Z",
     "iopub.status.busy": "2024-05-14T13:21:28.574290Z",
     "iopub.status.idle": "2024-05-14T13:21:28.582494Z",
     "shell.execute_reply": "2024-05-14T13:21:28.581203Z"
    },
    "papermill": {
     "duration": 0.018933,
     "end_time": "2024-05-14T13:21:28.585040",
     "exception": false,
     "start_time": "2024-05-14T13:21:28.566107",
     "status": "completed"
    },
    "tags": []
   },
   "outputs": [],
   "source": [
    "class MultiHeadedAttention(nn.Module):\n",
    "    \n",
    "    def __init__(self, embed_size, num_heads, head_size, context_size, dropout=0.2):\n",
    "        super().__init__()\n",
    "        self.heads = nn.ModuleList([SingleHeadedAttention(emb_size,head_size, context_size, dropout) for _ in range(num_heads)])\n",
    "        self.linear = nn.Linear(head_size*num_heads, emb_size)\n",
    "        \n",
    "        self.dropout = nn.Dropout(dropout)\n",
    "        \n",
    "    def forward(self, x):\n",
    "        out = torch.cat([h(x) for h in self.heads], dim=-1)\n",
    "        out = self.linear(out)\n",
    "        out = self.dropout(out)\n",
    "        return out"
   ]
  },
  {
   "cell_type": "code",
   "execution_count": 10,
   "id": "15223d37",
   "metadata": {
    "execution": {
     "iopub.execute_input": "2024-05-14T13:21:28.599704Z",
     "iopub.status.busy": "2024-05-14T13:21:28.599305Z",
     "iopub.status.idle": "2024-05-14T13:21:28.606429Z",
     "shell.execute_reply": "2024-05-14T13:21:28.605316Z"
    },
    "papermill": {
     "duration": 0.017999,
     "end_time": "2024-05-14T13:21:28.608844",
     "exception": false,
     "start_time": "2024-05-14T13:21:28.590845",
     "status": "completed"
    },
    "tags": []
   },
   "outputs": [],
   "source": [
    "class FeedForward(nn.Module):\n",
    "    \n",
    "    def __init__(self, emb_size, dropout=0.2):\n",
    "        super().__init__()\n",
    "        self.net = nn.Sequential(\n",
    "        nn.Linear(emb_size, emb_size*4),\n",
    "        nn.ReLU(),\n",
    "        nn.Linear(emb_size*4, emb_size),\n",
    "        nn.Dropout(dropout)\n",
    "        )\n",
    "        \n",
    "    def forward(self, x):\n",
    "        return self.net(x)"
   ]
  },
  {
   "cell_type": "code",
   "execution_count": 11,
   "id": "a188682a",
   "metadata": {
    "execution": {
     "iopub.execute_input": "2024-05-14T13:21:28.622379Z",
     "iopub.status.busy": "2024-05-14T13:21:28.621969Z",
     "iopub.status.idle": "2024-05-14T13:21:28.630379Z",
     "shell.execute_reply": "2024-05-14T13:21:28.629164Z"
    },
    "papermill": {
     "duration": 0.018115,
     "end_time": "2024-05-14T13:21:28.632832",
     "exception": false,
     "start_time": "2024-05-14T13:21:28.614717",
     "status": "completed"
    },
    "tags": []
   },
   "outputs": [],
   "source": [
    "class TransformerBlock(nn.Module):\n",
    "    \n",
    "    def __init__(self, embed_size, num_heads, context_size, dropout=0.2):\n",
    "        super().__init__()\n",
    "        head_size = embed_size // num_heads\n",
    "        self.norm1 = nn.LayerNorm(embed_size)\n",
    "        self.attention = MultiHeadedAttention(embed_size, num_heads, head_size, context_size, dropout)\n",
    "        self.norm2 = nn.LayerNorm(embed_size)\n",
    "        self.ff = FeedForward(embed_size, dropout)\n",
    "        \n",
    "    def forward(self, x):\n",
    "        \n",
    "        x_norm1 = self.norm1(x)\n",
    "        x = x + self.attention(x_norm1)\n",
    "        x_norm2 = self.norm2(x)\n",
    "        x = x + self.ff(x_norm2)\n",
    "        \n",
    "        return x\n",
    "        "
   ]
  },
  {
   "cell_type": "code",
   "execution_count": 12,
   "id": "04e480f3",
   "metadata": {
    "execution": {
     "iopub.execute_input": "2024-05-14T13:21:28.646418Z",
     "iopub.status.busy": "2024-05-14T13:21:28.646033Z",
     "iopub.status.idle": "2024-05-14T13:21:28.654510Z",
     "shell.execute_reply": "2024-05-14T13:21:28.653287Z"
    },
    "papermill": {
     "duration": 0.018167,
     "end_time": "2024-05-14T13:21:28.656982",
     "exception": false,
     "start_time": "2024-05-14T13:21:28.638815",
     "status": "completed"
    },
    "tags": []
   },
   "outputs": [],
   "source": [
    "class Encoder(nn.Module):\n",
    "    \n",
    "    def __init__(self,transformer_count , vocab_size, embed_size, context_size, dropout=0.2):\n",
    "        super().__init__()\n",
    "        \n",
    "        self.token_embed = nn.Embedding(vocab_size, embed_size)\n",
    "        self.pos_embed = nn.Embedding(context_size, embed_size)\n",
    "        self.transformers = nn.Sequential(*[TransformerBlock(embed_size, num_heads, context_size, dropout=0.2) for _ in range(transformer_count)])\n",
    "        \n",
    "    def forward(self, x):\n",
    "        B, T = x.shape\n",
    "        \n",
    "        tk_emb = self.token_embed(x)\n",
    "        pos_emb = self.pos_embed(x)\n",
    "        \n",
    "        x = tk_emb + pos_emb\n",
    "        x = self.transformers(x)\n",
    "        \n",
    "        return x"
   ]
  },
  {
   "cell_type": "code",
   "execution_count": 13,
   "id": "c1551f47",
   "metadata": {
    "execution": {
     "iopub.execute_input": "2024-05-14T13:21:28.670358Z",
     "iopub.status.busy": "2024-05-14T13:21:28.669944Z",
     "iopub.status.idle": "2024-05-14T13:21:28.676441Z",
     "shell.execute_reply": "2024-05-14T13:21:28.675205Z"
    },
    "papermill": {
     "duration": 0.015759,
     "end_time": "2024-05-14T13:21:28.678653",
     "exception": false,
     "start_time": "2024-05-14T13:21:28.662894",
     "status": "completed"
    },
    "tags": []
   },
   "outputs": [],
   "source": [
    "class FrenchEnglishTransformer(nn.Module):\n",
    "    \n",
    "    def __init__(self, transformer_count , vocab_size, embed_size, context_size, dropout=0.2):\n",
    "        super().__init__()\n",
    "        self.encoder = Encoder(transformer_count , vocab_size, embed_size, context_size, dropout)\n",
    "        self.decoder = Decoder()"
   ]
  }
 ],
 "metadata": {
  "kaggle": {
   "accelerator": "none",
   "dataSources": [
    {
     "datasetId": 592212,
     "sourceId": 1067156,
     "sourceType": "datasetVersion"
    },
    {
     "isSourceIdPinned": true,
     "modelInstanceId": 39748,
     "sourceId": 47475,
     "sourceType": "modelInstanceVersion"
    }
   ],
   "dockerImageVersionId": 30698,
   "isGpuEnabled": false,
   "isInternetEnabled": true,
   "language": "python",
   "sourceType": "notebook"
  },
  "kernelspec": {
   "display_name": "Python 3",
   "language": "python",
   "name": "python3"
  },
  "language_info": {
   "codemirror_mode": {
    "name": "ipython",
    "version": 3
   },
   "file_extension": ".py",
   "mimetype": "text/x-python",
   "name": "python",
   "nbconvert_exporter": "python",
   "pygments_lexer": "ipython3",
   "version": "3.10.13"
  },
  "papermill": {
   "default_parameters": {},
   "duration": 20.665474,
   "end_time": "2024-05-14T13:21:29.807641",
   "environment_variables": {},
   "exception": null,
   "input_path": "__notebook__.ipynb",
   "output_path": "__notebook__.ipynb",
   "parameters": {},
   "start_time": "2024-05-14T13:21:09.142167",
   "version": "2.5.0"
  }
 },
 "nbformat": 4,
 "nbformat_minor": 5
}
